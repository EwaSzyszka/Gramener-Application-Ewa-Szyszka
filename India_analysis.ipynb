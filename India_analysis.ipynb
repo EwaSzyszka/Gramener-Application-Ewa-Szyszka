{
 "cells": [
  {
   "cell_type": "markdown",
   "metadata": {},
   "source": [
    "Python 1"
   ]
  },
  {
   "cell_type": "code",
   "execution_count": 25,
   "metadata": {
    "collapsed": false
   },
   "outputs": [
    {
     "data": {
      "text/plain": [
       "{'b'}"
      ]
     },
     "execution_count": 25,
     "metadata": {},
     "output_type": "execute_result"
    }
   ],
   "source": [
    "#Find common elements\n",
    "L1 = ['a', 'b', 'c']\n",
    "L2 = ['b', 'd']\n",
    "\n",
    "set(L1) & set(L2)\n",
    "\n",
    "#Sets give all elements that are in the list without repetition\n",
    "#Next using the logical & operator I set a condition that returns the intersecting elements \n",
    "#that are in L1 and L2"
   ]
  },
  {
   "cell_type": "markdown",
   "metadata": {},
   "source": [
    "Python 1 - test"
   ]
  },
  {
   "cell_type": "code",
   "execution_count": 26,
   "metadata": {
    "collapsed": false
   },
   "outputs": [
    {
     "data": {
      "text/plain": [
       "{'a'}"
      ]
     },
     "execution_count": 26,
     "metadata": {},
     "output_type": "execute_result"
    }
   ],
   "source": [
    "#Next I test on another list if my code works correctly\n",
    "\n",
    "L3 = ['a','a','b']\n",
    "L4 = ['a']\n",
    "\n",
    "set(L3) & set(L4)"
   ]
  },
  {
   "cell_type": "code",
   "execution_count": null,
   "metadata": {
    "collapsed": true
   },
   "outputs": [],
   "source": [
    "Python 2"
   ]
  },
  {
   "cell_type": "code",
   "execution_count": 31,
   "metadata": {
    "collapsed": false
   },
   "outputs": [
    {
     "name": "stdout",
     "output_type": "stream",
     "text": [
      "('Number of days between 1990 and 2000 is ', 4017)\n",
      "('Numbr of Thursdays between 1990 and 2000 is equal to ', 573)\n"
     ]
    },
    {
     "data": {
      "text/plain": [
       "4014"
      ]
     },
     "execution_count": 31,
     "metadata": {},
     "output_type": "execute_result"
    }
   ],
   "source": [
    "import datetime\n",
    "\n",
    "#Calculating the number of days between two dates\n",
    "start_range = datetime.date(1990, 1, 1)\n",
    "end_range = datetime.date(2000, 12, 31)\n",
    "\n",
    "days_between = end_range - start_range\n",
    "print (\"Number of days between 1990 and 2000 is \", days_between.days)\n",
    "\n",
    "#1990 January 1st is on Monday, so the first Thursday is on the 4th January,\n",
    "#so \n",
    "\n",
    "#Starting January 4th, when there is the first Thursday of the year I will calculate how many times \n",
    "#an interval of 7 will be able to fit in, the result is equal to number of Thursdays between 1990 and 2000?\n",
    "Thursdays =(days_between.days - 3)/7\n",
    "\n",
    "print (\"Numbr of Thursdays between 1990 and 2000 is equal to \", Thursdays)\n",
    "days_between.days - 3\n",
    "\n"
   ]
  },
  {
   "cell_type": "code",
   "execution_count": null,
   "metadata": {
    "collapsed": false
   },
   "outputs": [],
   "source": [
    "Python 2 - test"
   ]
  },
  {
   "cell_type": "code",
   "execution_count": 32,
   "metadata": {
    "collapsed": false
   },
   "outputs": [
    {
     "name": "stdout",
     "output_type": "stream",
     "text": [
      "('Minimal hypothetical number of Thursdays is equal to ', 572)\n",
      "('Maximal hypothetical number of Thursdays is equal to ', 583)\n"
     ]
    }
   ],
   "source": [
    "#For test I will see whether the number that I arrived at falls in the range of minimal possible number of \n",
    "#Thursdays and maximum number of Thursdays possible \n",
    "#Ususally every year has between 52 to 53 Thursdays, so between January 1st 1990 and December 31st 2000 there are \n",
    "#11 years, so minimal hypothetical number will be 11 * 52 and maximal number 53 * 11\n",
    "\n",
    "Minimal_number_of_Thursdays = 11*52\n",
    "Maximal_number_of_Thursdays = 11*53\n",
    "print(\"Minimal hypothetical number of Thursdays is equal to \", Minimal_number_of_Thursdays)\n",
    "print(\"Maximal hypothetical number of Thursdays is equal to \", Maximal_number_of_Thursdays)\n",
    "\n",
    "#The number that I arrived at in my estimation was 573, which falls between the range above, thus I \n",
    "#assume that I arrived at a correct solution"
   ]
  }
 ],
 "metadata": {
  "kernelspec": {
   "display_name": "Python [Root]",
   "language": "python",
   "name": "Python [Root]"
  },
  "language_info": {
   "codemirror_mode": {
    "name": "ipython",
    "version": 2
   },
   "file_extension": ".py",
   "mimetype": "text/x-python",
   "name": "python",
   "nbconvert_exporter": "python",
   "pygments_lexer": "ipython2",
   "version": "2.7.12"
  }
 },
 "nbformat": 4,
 "nbformat_minor": 0
}
